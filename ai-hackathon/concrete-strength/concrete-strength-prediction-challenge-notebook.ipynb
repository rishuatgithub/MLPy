{
 "cells": [
  {
   "cell_type": "code",
   "execution_count": 95,
   "id": "0da22b7a",
   "metadata": {},
   "outputs": [],
   "source": [
    "import pandas as pd\n",
    "import pickle"
   ]
  },
  {
   "cell_type": "code",
   "execution_count": 96,
   "id": "cbac7726",
   "metadata": {},
   "outputs": [
    {
     "data": {
      "text/html": [
       "<div>\n",
       "<style scoped>\n",
       "    .dataframe tbody tr th:only-of-type {\n",
       "        vertical-align: middle;\n",
       "    }\n",
       "\n",
       "    .dataframe tbody tr th {\n",
       "        vertical-align: top;\n",
       "    }\n",
       "\n",
       "    .dataframe thead th {\n",
       "        text-align: right;\n",
       "    }\n",
       "</style>\n",
       "<table border=\"1\" class=\"dataframe\">\n",
       "  <thead>\n",
       "    <tr style=\"text-align: right;\">\n",
       "      <th></th>\n",
       "      <th>cement</th>\n",
       "      <th>slag</th>\n",
       "      <th>flyash</th>\n",
       "      <th>water</th>\n",
       "      <th>superplasticizer</th>\n",
       "      <th>coarseaggregate</th>\n",
       "      <th>fineaggregate</th>\n",
       "      <th>age</th>\n",
       "      <th>csMPa</th>\n",
       "    </tr>\n",
       "  </thead>\n",
       "  <tbody>\n",
       "    <tr>\n",
       "      <th>0</th>\n",
       "      <td>297.0</td>\n",
       "      <td>0.0</td>\n",
       "      <td>0.0</td>\n",
       "      <td>186.0</td>\n",
       "      <td>0.0</td>\n",
       "      <td>1040.0</td>\n",
       "      <td>734.0</td>\n",
       "      <td>7</td>\n",
       "      <td>NaN</td>\n",
       "    </tr>\n",
       "    <tr>\n",
       "      <th>1</th>\n",
       "      <td>480.0</td>\n",
       "      <td>0.0</td>\n",
       "      <td>0.0</td>\n",
       "      <td>192.0</td>\n",
       "      <td>0.0</td>\n",
       "      <td>936.0</td>\n",
       "      <td>721.0</td>\n",
       "      <td>28</td>\n",
       "      <td>NaN</td>\n",
       "    </tr>\n",
       "    <tr>\n",
       "      <th>2</th>\n",
       "      <td>480.0</td>\n",
       "      <td>0.0</td>\n",
       "      <td>0.0</td>\n",
       "      <td>192.0</td>\n",
       "      <td>0.0</td>\n",
       "      <td>936.0</td>\n",
       "      <td>721.0</td>\n",
       "      <td>90</td>\n",
       "      <td>NaN</td>\n",
       "    </tr>\n",
       "    <tr>\n",
       "      <th>3</th>\n",
       "      <td>397.0</td>\n",
       "      <td>0.0</td>\n",
       "      <td>0.0</td>\n",
       "      <td>186.0</td>\n",
       "      <td>0.0</td>\n",
       "      <td>1040.0</td>\n",
       "      <td>734.0</td>\n",
       "      <td>28</td>\n",
       "      <td>NaN</td>\n",
       "    </tr>\n",
       "    <tr>\n",
       "      <th>4</th>\n",
       "      <td>281.0</td>\n",
       "      <td>0.0</td>\n",
       "      <td>0.0</td>\n",
       "      <td>186.0</td>\n",
       "      <td>0.0</td>\n",
       "      <td>1104.0</td>\n",
       "      <td>774.0</td>\n",
       "      <td>7</td>\n",
       "      <td>NaN</td>\n",
       "    </tr>\n",
       "  </tbody>\n",
       "</table>\n",
       "</div>"
      ],
      "text/plain": [
       "   cement  slag  flyash  water  superplasticizer  coarseaggregate  \\\n",
       "0   297.0   0.0     0.0  186.0               0.0           1040.0   \n",
       "1   480.0   0.0     0.0  192.0               0.0            936.0   \n",
       "2   480.0   0.0     0.0  192.0               0.0            936.0   \n",
       "3   397.0   0.0     0.0  186.0               0.0           1040.0   \n",
       "4   281.0   0.0     0.0  186.0               0.0           1104.0   \n",
       "\n",
       "   fineaggregate  age  csMPa  \n",
       "0          734.0    7    NaN  \n",
       "1          721.0   28    NaN  \n",
       "2          721.0   90    NaN  \n",
       "3          734.0   28    NaN  \n",
       "4          774.0    7    NaN  "
      ]
     },
     "execution_count": 96,
     "metadata": {},
     "output_type": "execute_result"
    }
   ],
   "source": [
    "test_data = pd.read_excel('data/Building_Strength_train_test.xlsx', sheet_name='test', engine='openpyxl')\n",
    "\n",
    "test_data.head()"
   ]
  },
  {
   "cell_type": "code",
   "execution_count": 97,
   "id": "0cb46743",
   "metadata": {},
   "outputs": [
    {
     "data": {
      "text/plain": [
       "Index(['cement', 'slag', 'flyash', 'water', 'superplasticizer',\n",
       "       'coarseaggregate', 'fineaggregate', 'age', 'csMPa'],\n",
       "      dtype='object')"
      ]
     },
     "execution_count": 97,
     "metadata": {},
     "output_type": "execute_result"
    }
   ],
   "source": [
    "test_data.columns"
   ]
  },
  {
   "cell_type": "code",
   "execution_count": 98,
   "id": "6e5c59dc",
   "metadata": {},
   "outputs": [
    {
     "name": "stdout",
     "output_type": "stream",
     "text": [
      "Mean: 293.3337068965517\n",
      "Std: 344.06802808463914\n"
     ]
    }
   ],
   "source": [
    "# normalize the dataset\n",
    "\n",
    "test_data_selected = test_data[test_data.columns[test_data.columns!='csMPa']].values\n",
    "\n",
    "\n",
    "#td_mean = 298.6481917475728\n",
    "#td_std = 352.3836093554314\n",
    "\n",
    "td_mean = test_data_selected.mean()\n",
    "td_std = test_data_selected.std()\n",
    "\n",
    "print(f'Mean: {td_mean}')\n",
    "print(f'Std: {td_std}')"
   ]
  },
  {
   "cell_type": "code",
   "execution_count": 99,
   "id": "5a5c29ad",
   "metadata": {},
   "outputs": [
    {
     "data": {
      "text/plain": [
       "array([[ 0.01065572, -0.85254567, -0.85254567, ...,  2.1701124 ,\n",
       "         1.28075339, -0.83220085],\n",
       "       [ 0.54252728, -0.85254567, -0.85254567, ...,  1.86784659,\n",
       "         1.24297016, -0.77116641],\n",
       "       [ 0.54252728, -0.85254567, -0.85254567, ...,  1.86784659,\n",
       "         1.24297016, -0.59096949],\n",
       "       ...,\n",
       "       [-0.42094497, -0.44739323, -0.53691041, ...,  1.74112746,\n",
       "         1.41444788, -0.77116641],\n",
       "       [-0.39013711, -0.30992042, -0.85254567, ...,  2.02362974,\n",
       "         1.44031486, -0.77116641],\n",
       "       [-0.09426539, -0.56045227, -0.62497439, ...,  1.66003885,\n",
       "         1.36067944, -0.77116641]])"
      ]
     },
     "execution_count": 99,
     "metadata": {},
     "output_type": "execute_result"
    }
   ],
   "source": [
    "test_data_normalized = (test_data_selected - td_mean)/td_std\n",
    "test_data_normalized"
   ]
  },
  {
   "cell_type": "code",
   "execution_count": 100,
   "id": "30613b9a",
   "metadata": {},
   "outputs": [
    {
     "data": {
      "text/plain": [
       "XGBRegressor(base_score=0.5, booster='gbtree', colsample_bylevel=1,\n",
       "             colsample_bynode=1, colsample_bytree=1, gamma=0.001, gpu_id=-1,\n",
       "             importance_type='gain', interaction_constraints='',\n",
       "             learning_rate=0.3, max_delta_step=0, max_depth=2,\n",
       "             min_child_weight=1, missing=nan, monotone_constraints='()',\n",
       "             n_estimators=500, n_jobs=4, num_parallel_tree=1, random_state=0,\n",
       "             reg_alpha=0, reg_lambda=1, scale_pos_weight=1, subsample=1,\n",
       "             tree_method='exact', validate_parameters=1, verbosity=None)"
      ]
     },
     "execution_count": 100,
     "metadata": {},
     "output_type": "execute_result"
    }
   ],
   "source": [
    "## load the model\n",
    "\n",
    "model = pickle.load(open('model/concrete-strength-model-20210610.pickle.dat','rb'))\n",
    "#model = pickle.load(open('model/concrete-strength-model-20210610-wo-normalization.pickle.dat','rb'))\n",
    "model"
   ]
  },
  {
   "cell_type": "code",
   "execution_count": 101,
   "id": "78156151",
   "metadata": {},
   "outputs": [],
   "source": [
    "predictions = model.predict(test_data_normalized)\n",
    "#predictions = model.predict(test_data_selected)"
   ]
  },
  {
   "cell_type": "code",
   "execution_count": 102,
   "id": "fd948699",
   "metadata": {},
   "outputs": [],
   "source": [
    "## generate the output file\n",
    "\n",
    "output = pd.DataFrame({'cement':test_data['cement'],\n",
    "                       'slag':test_data['slag'],\n",
    "                       'flyash': test_data['flyash'],\n",
    "                       'water': test_data['water'],\n",
    "                       'superplasticizer': test_data['superplasticizer'],\n",
    "                       'coarseaggregate': test_data['coarseaggregate'],\n",
    "                       'fineaggregate': test_data['fineaggregate'],\n",
    "                       'age': test_data['age'],\n",
    "                       'csMPa': predictions\n",
    "                      })\n",
    "\n",
    "output.to_csv('data/concrete_strength_prediction_output.csv', index=False)"
   ]
  }
 ],
 "metadata": {
  "kernelspec": {
   "display_name": "Python 3",
   "language": "python",
   "name": "python3"
  },
  "language_info": {
   "codemirror_mode": {
    "name": "ipython",
    "version": 3
   },
   "file_extension": ".py",
   "mimetype": "text/x-python",
   "name": "python",
   "nbconvert_exporter": "python",
   "pygments_lexer": "ipython3",
   "version": "3.7.10"
  }
 },
 "nbformat": 4,
 "nbformat_minor": 5
}
