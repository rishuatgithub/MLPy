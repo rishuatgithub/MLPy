{
 "cells": [
  {
   "cell_type": "code",
   "execution_count": 134,
   "id": "5aa852b3",
   "metadata": {},
   "outputs": [],
   "source": [
    "#!pip install git+https://github.com/thunlp/OpenNRE.git\n",
    "#!pip install spacy\n",
    "#!pip install git+https://github.com/huggingface/neuralcoref.git\n",
    "#!pip install neuralcoref\n",
    "\n",
    "#!pip install spacy==2.1.0\n",
    "\n",
    "#!pip uninstall neuralcoref -y\n",
    "#!pip install neuralcoref\n",
    "\n",
    "#!python -m spacy download en_core_web_sm"
   ]
  },
  {
   "cell_type": "code",
   "execution_count": 1,
   "id": "2a9e8470",
   "metadata": {},
   "outputs": [
    {
     "name": "stderr",
     "output_type": "stream",
     "text": [
      "2021-08-07 12:19:45,640 - neuralcoref - INFO - Loading model from /Users/rishushrivastava/.neuralcoref_cache/neuralcoref\n"
     ]
    }
   ],
   "source": [
    "import pandas as pd\n",
    "import opennre\n",
    "import spacy\n",
    "import neuralcoref\n",
    "\n",
    "import urllib\n",
    "from string import punctuation\n",
    "import nltk\n",
    "import json\n",
    "import itertools"
   ]
  },
  {
   "cell_type": "code",
   "execution_count": 2,
   "id": "b071d438",
   "metadata": {},
   "outputs": [
    {
     "data": {
      "text/plain": [
       "11086"
      ]
     },
     "execution_count": 2,
     "metadata": {},
     "output_type": "execute_result"
    }
   ],
   "source": [
    "data = pd.read_excel('data/nyt10m_test.xlsx', engine='openpyxl')\n",
    "\n",
    "len(data)"
   ]
  },
  {
   "cell_type": "code",
   "execution_count": 3,
   "id": "40f64545",
   "metadata": {},
   "outputs": [
    {
     "data": {
      "text/plain": [
       "'2.1.0'"
      ]
     },
     "execution_count": 3,
     "metadata": {},
     "output_type": "execute_result"
    }
   ],
   "source": [
    "spacy.__version__"
   ]
  },
  {
   "cell_type": "code",
   "execution_count": 4,
   "id": "bf144fac",
   "metadata": {},
   "outputs": [
    {
     "data": {
      "text/plain": [
       "<spacy.lang.en.English at 0x7fc325042350>"
      ]
     },
     "execution_count": 4,
     "metadata": {},
     "output_type": "execute_result"
    }
   ],
   "source": [
    "nlp = spacy.load('en_core_web_sm')\n",
    "neuralcoref.add_to_pipe(nlp)"
   ]
  },
  {
   "cell_type": "code",
   "execution_count": 5,
   "id": "b945a91d",
   "metadata": {},
   "outputs": [],
   "source": [
    "doc = nlp('My sister has a dog. She loves him.')"
   ]
  },
  {
   "cell_type": "code",
   "execution_count": 6,
   "id": "2518e755",
   "metadata": {},
   "outputs": [
    {
     "data": {
      "text/plain": [
       "[My sister: [My sister, She], a dog: [a dog, him]]"
      ]
     },
     "execution_count": 6,
     "metadata": {},
     "output_type": "execute_result"
    }
   ],
   "source": [
    "doc._.coref_clusters"
   ]
  },
  {
   "cell_type": "code",
   "execution_count": 7,
   "id": "642ff16c",
   "metadata": {},
   "outputs": [
    {
     "data": {
      "text/plain": [
       "'My sister has a dog. My sister loves a dog.'"
      ]
     },
     "execution_count": 7,
     "metadata": {},
     "output_type": "execute_result"
    }
   ],
   "source": [
    "doc._.coref_resolved"
   ]
  },
  {
   "cell_type": "code",
   "execution_count": 8,
   "id": "8989ecec",
   "metadata": {},
   "outputs": [
    {
     "data": {
      "text/plain": [
       "([David: [David, He]],\n",
       " 'David went to the concert. David said it was an amazing experience.')"
      ]
     },
     "execution_count": 8,
     "metadata": {},
     "output_type": "execute_result"
    }
   ],
   "source": [
    "doc = nlp('David went to the concert. He said it was an amazing experience.')\n",
    "doc._.coref_clusters,doc._.coref_resolved"
   ]
  },
  {
   "cell_type": "code",
   "execution_count": 9,
   "id": "481358fd",
   "metadata": {},
   "outputs": [
    {
     "data": {
      "text/plain": [
       "['',\n",
       " 'advisors',\n",
       " 'neighborhood',\n",
       " 'religion',\n",
       " 'locations',\n",
       " 'contains',\n",
       " 'place_of_burial',\n",
       " 'NA',\n",
       " 'capital',\n",
       " 'location',\n",
       " 'founders',\n",
       " 'ethnicity',\n",
       " 'nationality',\n",
       " 'place_of_birth',\n",
       " 'administrative_division',\n",
       " 'featured_film_locations',\n",
       " 'region',\n",
       " 'business',\n",
       " 'majorshareholders',\n",
       " 'country',\n",
       " 'place_of_death',\n",
       " 'deceasedperson',\n",
       " 'company',\n",
       " 'place_lived',\n",
       " 'county_seat',\n",
       " 'place_founded',\n",
       " 'us_county',\n",
       " 'geographic_distribution',\n",
       " 'people',\n",
       " 'children',\n",
       " 'neighborhood_of',\n",
       " 'film',\n",
       " 'person',\n",
       " 'time',\n",
       " 'event',\n",
       " 'administrative_divisions']"
      ]
     },
     "execution_count": 9,
     "metadata": {},
     "output_type": "execute_result"
    }
   ],
   "source": [
    "with open('data/nyt10m_rel2id.json') as f:\n",
    "    _ents = json.load(f)\n",
    "    \n",
    "ent_types = []\n",
    "for k, v in _ents.items():\n",
    "    _k = k.split('/')\n",
    "    for k1 in _k:\n",
    "        ent_types.append(k1)\n",
    "    \n",
    "list(set(ent_types))\n"
   ]
  },
  {
   "cell_type": "code",
   "execution_count": 10,
   "id": "243e80c0",
   "metadata": {},
   "outputs": [],
   "source": [
    "ENTITY_TYPES = [\"human\", \"person\", \"company\", \"enterprise\", \"business\", \"geographic region\",\n",
    "                \"human settlement\", \"geographic entity\", \"territorial entity type\", \"organization\"]"
   ]
  },
  {
   "cell_type": "code",
   "execution_count": 11,
   "id": "8b6511b7",
   "metadata": {},
   "outputs": [],
   "source": [
    "def wikifier(text, lang=\"en\", threshold=0.8):\n",
    "    \"\"\"Function that fetches entity linking results from wikifier.com API\"\"\"\n",
    "    # Prepare the URL.\n",
    "    data = urllib.parse.urlencode([\n",
    "        (\"text\", text), (\"lang\", lang),\n",
    "        (\"userKey\", \"tgbdmkpmkluegqfbawcwjywieevmza\"),\n",
    "        (\"pageRankSqThreshold\", \"%g\" %\n",
    "         threshold), (\"applyPageRankSqThreshold\", \"true\"),\n",
    "        (\"nTopDfValuesToIgnore\", \"100\"), (\"nWordsToIgnoreFromList\", \"100\"),\n",
    "        (\"wikiDataClasses\", \"true\"), (\"wikiDataClassIds\", \"false\"),\n",
    "        (\"support\", \"true\"), (\"ranges\", \"false\"), (\"minLinkFrequency\", \"2\"),\n",
    "        (\"includeCosines\", \"false\"), (\"maxMentionEntropy\", \"3\")\n",
    "    ])\n",
    "    \n",
    "    url = \"http://www.wikifier.org/annotate-article\"\n",
    "    # Call the Wikifier and read the response.\n",
    "    req = urllib.request.Request(url, data=data.encode(\"utf8\"), method=\"POST\")\n",
    "    with urllib.request.urlopen(req, timeout=60) as f:\n",
    "        response = f.read()\n",
    "        response = json.loads(response.decode(\"utf8\"))\n",
    "    # Output the annotations.\n",
    "    results = list()\n",
    "    \n",
    "    for annotation in response[\"annotations\"]:\n",
    "        if ('wikiDataClasses' in annotation) and (any([el['enLabel'] in ENTITY_TYPES for el in annotation['wikiDataClasses']])):\n",
    "\n",
    "            # Specify entity label\n",
    "            if any([el['enLabel'] in [\"human\", \"person\"] \n",
    "                    for el in annotation['wikiDataClasses']]):\n",
    "                label = 'Person'\n",
    "            elif any([el['enLabel'] in [\"company\", \"enterprise\", \"business\", \"organization\"] \n",
    "                      for el in annotation['wikiDataClasses']]):\n",
    "                label = 'Organization'\n",
    "            elif any([el['enLabel'] in [\"geographic region\", \"human settlement\", \"geographic entity\", \"territorial entity type\"] \n",
    "                      for el in annotation['wikiDataClasses']]):\n",
    "                label = 'Location'\n",
    "            else:\n",
    "                label = None\n",
    "\n",
    "            results.append({'title': annotation['title'], 'wikiId': annotation['wikiDataItemId'], 'label': label,\n",
    "                            'characters': [(el['chFrom'], el['chTo']) for el in annotation['support']]})\n",
    "    return results"
   ]
  },
  {
   "cell_type": "code",
   "execution_count": null,
   "id": "e4a3c9f9",
   "metadata": {},
   "outputs": [],
   "source": []
  },
  {
   "cell_type": "code",
   "execution_count": 12,
   "id": "7ecca38e",
   "metadata": {},
   "outputs": [
    {
     "data": {
      "text/plain": [
       "[{'title': 'Elon Musk',\n",
       "  'wikiId': 'Q317521',\n",
       "  'label': 'Person',\n",
       "  'characters': [(0, 8), (5, 8), (68, 76), (73, 76)]},\n",
       " {'title': 'SpaceX',\n",
       "  'wikiId': 'Q193701',\n",
       "  'label': 'Organization',\n",
       "  'characters': [(126, 131)]}]"
      ]
     },
     "execution_count": 12,
     "metadata": {},
     "output_type": "execute_result"
    }
   ],
   "source": [
    "wikifier(\"Elon Musk is a business magnate, industrial designer, and engineer. Elon Musk is the founder, CEO, CTO, and chief designer of SpaceX\")"
   ]
  },
  {
   "cell_type": "code",
   "execution_count": 13,
   "id": "cb8a050c",
   "metadata": {},
   "outputs": [
    {
     "data": {
      "text/plain": [
       "\"The Little Comedy , '' a mannered operetta based on a short story by Arthur Schnitzler set in fin-de-si Ã¨cle Vienna , opens the evening .\""
      ]
     },
     "execution_count": 13,
     "metadata": {},
     "output_type": "execute_result"
    }
   ],
   "source": [
    "txt = data['text'][0]\n",
    "\n",
    "txt"
   ]
  },
  {
   "cell_type": "code",
   "execution_count": 14,
   "id": "48c71d5d",
   "metadata": {},
   "outputs": [
    {
     "data": {
      "text/plain": [
       "\"The Little Comedy , '' a mannered operetta based on a short story by Arthur Schnitzler set in fin-de-si Ã¨cle Vienna , opens the evening .\""
      ]
     },
     "execution_count": 14,
     "metadata": {},
     "output_type": "execute_result"
    }
   ],
   "source": [
    "#data_resolved_text = []\n",
    "\n",
    "doc = nlp(txt)\n",
    "resolved_text = doc._.coref_resolved\n",
    "#data_resolved_text.append({'text':t, 'resolved_text':resolved_text})\n",
    "resolved_text"
   ]
  },
  {
   "cell_type": "code",
   "execution_count": 15,
   "id": "09b6d5f0",
   "metadata": {},
   "outputs": [
    {
     "name": "stderr",
     "output_type": "stream",
     "text": [
      "2021-08-07 12:20:09,078 - root - INFO - Initializing word embedding with word2vec.\n"
     ]
    }
   ],
   "source": [
    "model = opennre.get_model('wiki80_cnn_softmax')\n",
    "#model = model.cuda()\n",
    "\n",
    "entities_threshold = 0.8\n",
    "\n",
    "relations_list = []\n",
    "# First get all the entities in the sentence\n",
    "entities = wikifier(resolved_text, threshold=entities_threshold)"
   ]
  },
  {
   "cell_type": "code",
   "execution_count": 16,
   "id": "df75e7a1",
   "metadata": {},
   "outputs": [
    {
     "data": {
      "text/plain": [
       "[{'title': 'Arthur Schnitzler',\n",
       "  'wikiId': 'Q44331',\n",
       "  'label': 'Person',\n",
       "  'characters': [(69, 85), (76, 85)]},\n",
       " {'title': 'Vienna',\n",
       "  'wikiId': 'Q1741',\n",
       "  'label': 'Organization',\n",
       "  'characters': [(110, 115)]}]"
      ]
     },
     "execution_count": 16,
     "metadata": {},
     "output_type": "execute_result"
    }
   ],
   "source": [
    "entities"
   ]
  },
  {
   "cell_type": "code",
   "execution_count": 17,
   "id": "b9009e0d",
   "metadata": {},
   "outputs": [
    {
     "data": {
      "text/plain": [
       "({'title': 'Arthur Schnitzler',\n",
       "  'wikiId': 'Q44331',\n",
       "  'label': 'Person',\n",
       "  'characters': [(69, 85), (76, 85)]},\n",
       " {'title': 'Vienna',\n",
       "  'wikiId': 'Q1741',\n",
       "  'label': 'Organization',\n",
       "  'characters': [(110, 115)]})"
      ]
     },
     "execution_count": 17,
     "metadata": {},
     "output_type": "execute_result"
    }
   ],
   "source": [
    "list(itertools.permutations(entities, 2))[0]"
   ]
  },
  {
   "cell_type": "code",
   "execution_count": 18,
   "id": "2a121c9c",
   "metadata": {},
   "outputs": [
    {
     "name": "stdout",
     "output_type": "stream",
     "text": [
      "0.9284580945968628 Arthur Schnitzler Vienna work location\n",
      "0.9112037420272827 Arthur Schnitzler Vienna work location\n"
     ]
    },
    {
     "data": {
      "text/plain": [
       "[{'source': 'Arthur Schnitzler', 'target': 'Vienna', 'type': 'work location'},\n",
       " {'source': 'Arthur Schnitzler', 'target': 'Vienna', 'type': 'work location'}]"
      ]
     },
     "execution_count": 18,
     "metadata": {},
     "output_type": "execute_result"
    }
   ],
   "source": [
    "relation_threshold = 0.90\n",
    "for permutation in itertools.permutations(entities, 2):\n",
    "    for source in permutation[0]['characters']:\n",
    "        for target in permutation[1]['characters']:\n",
    "            # Relationship extraction with OpenNRE\n",
    "            data = model.infer({'text': resolved_text, \n",
    "                                'h': {'pos': [source[0], source[1] + 1]}, \n",
    "                                't': {'pos': [target[0], target[1] + 1]}})\n",
    "            \n",
    "            if data[1] > relation_threshold:\n",
    "                print (data[1],permutation[0]['title'],permutation[1]['title'], data[0])\n",
    "            \n",
    "                relations_list.append(\n",
    "                    {'source': permutation[0]['title'], \n",
    "                     'target': permutation[1]['title'], \n",
    "                     'type': data[0]})\n",
    "                \n",
    "relations_list"
   ]
  },
  {
   "cell_type": "code",
   "execution_count": 19,
   "id": "2ba8e744",
   "metadata": {},
   "outputs": [
    {
     "data": {
      "text/plain": [
       "('work location', 0.9284580945968628)"
      ]
     },
     "execution_count": 19,
     "metadata": {},
     "output_type": "execute_result"
    }
   ],
   "source": [
    "model.infer({'text': resolved_text, \n",
    "                                'h': {'pos': [69, 86]}, \n",
    "                                't': {'pos': [110, 117]}})"
   ]
  },
  {
   "cell_type": "code",
   "execution_count": 20,
   "id": "e72c80c4",
   "metadata": {},
   "outputs": [],
   "source": [
    "#model = opennre.get_model('wiki80_cnn_softmax')"
   ]
  },
  {
   "cell_type": "code",
   "execution_count": 21,
   "id": "6c72a21a",
   "metadata": {},
   "outputs": [],
   "source": [
    "#model.infer({'text': 'He was the son of Máel Dúin mac Máele Fithrich, and grandson of the high king Áed Uaridnach (died 612).', \n",
    "#             'h': {'pos': (18, 46)}, \n",
    "#             't': {'pos': (78, 91)}})"
   ]
  },
  {
   "cell_type": "code",
   "execution_count": null,
   "id": "b90fd1de",
   "metadata": {},
   "outputs": [],
   "source": []
  },
  {
   "cell_type": "code",
   "execution_count": 97,
   "id": "e2dd8854",
   "metadata": {},
   "outputs": [],
   "source": [
    "def prepare_nlp(text):\n",
    "    doc = nlp(txt)\n",
    "    resolved_text = doc._.coref_resolved\n",
    "    #data_resolved_text.append({'text':t, 'resolved_text':resolved_text})\n",
    "    entities = wikifier(resolved_text, threshold=entities_threshold)\n",
    "    return (resolved_text, entities)"
   ]
  },
  {
   "cell_type": "code",
   "execution_count": 99,
   "id": "95795401",
   "metadata": {},
   "outputs": [],
   "source": [
    "#data['resolved'] = data['text'].apply(lambda x: prepare_nlp(x))\n",
    "\n",
    "#data.head()"
   ]
  },
  {
   "cell_type": "code",
   "execution_count": null,
   "id": "fb21c0eb",
   "metadata": {
    "scrolled": true
   },
   "outputs": [],
   "source": []
  },
  {
   "cell_type": "code",
   "execution_count": 143,
   "id": "a55e5b28",
   "metadata": {},
   "outputs": [
    {
     "data": {
      "text/html": [
       "<div>\n",
       "<style scoped>\n",
       "    .dataframe tbody tr th:only-of-type {\n",
       "        vertical-align: middle;\n",
       "    }\n",
       "\n",
       "    .dataframe tbody tr th {\n",
       "        vertical-align: top;\n",
       "    }\n",
       "\n",
       "    .dataframe thead th {\n",
       "        text-align: right;\n",
       "    }\n",
       "</style>\n",
       "<table border=\"1\" class=\"dataframe\">\n",
       "  <thead>\n",
       "    <tr style=\"text-align: right;\">\n",
       "      <th></th>\n",
       "      <th>text</th>\n",
       "      <th>source</th>\n",
       "      <th>target</th>\n",
       "      <th>type</th>\n",
       "      <th>threshold</th>\n",
       "    </tr>\n",
       "  </thead>\n",
       "  <tbody>\n",
       "    <tr>\n",
       "      <th>0</th>\n",
       "      <td>The Little Comedy , '' a mannered operetta bas...</td>\n",
       "      <td>Arthur Schnitzler</td>\n",
       "      <td>Vienna</td>\n",
       "      <td>work location</td>\n",
       "      <td>0.928458</td>\n",
       "    </tr>\n",
       "    <tr>\n",
       "      <th>1</th>\n",
       "      <td>The Little Comedy , '' a mannered operetta bas...</td>\n",
       "      <td>Arthur Schnitzler</td>\n",
       "      <td>Vienna</td>\n",
       "      <td>work location</td>\n",
       "      <td>0.911204</td>\n",
       "    </tr>\n",
       "    <tr>\n",
       "      <th>2</th>\n",
       "      <td>The Little Comedy , '' a mannered operetta bas...</td>\n",
       "      <td>Vienna</td>\n",
       "      <td>Arthur Schnitzler</td>\n",
       "      <td>architect</td>\n",
       "      <td>0.608013</td>\n",
       "    </tr>\n",
       "    <tr>\n",
       "      <th>3</th>\n",
       "      <td>The Little Comedy , '' a mannered operetta bas...</td>\n",
       "      <td>Vienna</td>\n",
       "      <td>Arthur Schnitzler</td>\n",
       "      <td>owned by</td>\n",
       "      <td>0.391916</td>\n",
       "    </tr>\n",
       "    <tr>\n",
       "      <th>4</th>\n",
       "      <td>A court in Rome acquitted five people accused ...</td>\n",
       "      <td>Arthur Schnitzler</td>\n",
       "      <td>Vienna</td>\n",
       "      <td>work location</td>\n",
       "      <td>0.928458</td>\n",
       "    </tr>\n",
       "    <tr>\n",
       "      <th>5</th>\n",
       "      <td>A court in Rome acquitted five people accused ...</td>\n",
       "      <td>Arthur Schnitzler</td>\n",
       "      <td>Vienna</td>\n",
       "      <td>work location</td>\n",
       "      <td>0.911204</td>\n",
       "    </tr>\n",
       "    <tr>\n",
       "      <th>6</th>\n",
       "      <td>A court in Rome acquitted five people accused ...</td>\n",
       "      <td>Vienna</td>\n",
       "      <td>Arthur Schnitzler</td>\n",
       "      <td>architect</td>\n",
       "      <td>0.608013</td>\n",
       "    </tr>\n",
       "    <tr>\n",
       "      <th>7</th>\n",
       "      <td>A court in Rome acquitted five people accused ...</td>\n",
       "      <td>Vienna</td>\n",
       "      <td>Arthur Schnitzler</td>\n",
       "      <td>owned by</td>\n",
       "      <td>0.391916</td>\n",
       "    </tr>\n",
       "    <tr>\n",
       "      <th>8</th>\n",
       "      <td>There were also performers who were born in Lo...</td>\n",
       "      <td>Arthur Schnitzler</td>\n",
       "      <td>Vienna</td>\n",
       "      <td>work location</td>\n",
       "      <td>0.928458</td>\n",
       "    </tr>\n",
       "    <tr>\n",
       "      <th>9</th>\n",
       "      <td>There were also performers who were born in Lo...</td>\n",
       "      <td>Arthur Schnitzler</td>\n",
       "      <td>Vienna</td>\n",
       "      <td>work location</td>\n",
       "      <td>0.911204</td>\n",
       "    </tr>\n",
       "    <tr>\n",
       "      <th>10</th>\n",
       "      <td>There were also performers who were born in Lo...</td>\n",
       "      <td>Vienna</td>\n",
       "      <td>Arthur Schnitzler</td>\n",
       "      <td>architect</td>\n",
       "      <td>0.608013</td>\n",
       "    </tr>\n",
       "    <tr>\n",
       "      <th>11</th>\n",
       "      <td>There were also performers who were born in Lo...</td>\n",
       "      <td>Vienna</td>\n",
       "      <td>Arthur Schnitzler</td>\n",
       "      <td>owned by</td>\n",
       "      <td>0.391916</td>\n",
       "    </tr>\n",
       "    <tr>\n",
       "      <th>12</th>\n",
       "      <td>When Julian Resuello , the mayor of San Carlos...</td>\n",
       "      <td>Arthur Schnitzler</td>\n",
       "      <td>Vienna</td>\n",
       "      <td>work location</td>\n",
       "      <td>0.928458</td>\n",
       "    </tr>\n",
       "    <tr>\n",
       "      <th>13</th>\n",
       "      <td>When Julian Resuello , the mayor of San Carlos...</td>\n",
       "      <td>Arthur Schnitzler</td>\n",
       "      <td>Vienna</td>\n",
       "      <td>work location</td>\n",
       "      <td>0.911204</td>\n",
       "    </tr>\n",
       "    <tr>\n",
       "      <th>14</th>\n",
       "      <td>When Julian Resuello , the mayor of San Carlos...</td>\n",
       "      <td>Vienna</td>\n",
       "      <td>Arthur Schnitzler</td>\n",
       "      <td>architect</td>\n",
       "      <td>0.608013</td>\n",
       "    </tr>\n",
       "    <tr>\n",
       "      <th>15</th>\n",
       "      <td>When Julian Resuello , the mayor of San Carlos...</td>\n",
       "      <td>Vienna</td>\n",
       "      <td>Arthur Schnitzler</td>\n",
       "      <td>owned by</td>\n",
       "      <td>0.391916</td>\n",
       "    </tr>\n",
       "    <tr>\n",
       "      <th>16</th>\n",
       "      <td>When Julian Resuello , the mayor of San Carlos...</td>\n",
       "      <td>Arthur Schnitzler</td>\n",
       "      <td>Vienna</td>\n",
       "      <td>work location</td>\n",
       "      <td>0.928458</td>\n",
       "    </tr>\n",
       "    <tr>\n",
       "      <th>17</th>\n",
       "      <td>When Julian Resuello , the mayor of San Carlos...</td>\n",
       "      <td>Arthur Schnitzler</td>\n",
       "      <td>Vienna</td>\n",
       "      <td>work location</td>\n",
       "      <td>0.911204</td>\n",
       "    </tr>\n",
       "    <tr>\n",
       "      <th>18</th>\n",
       "      <td>When Julian Resuello , the mayor of San Carlos...</td>\n",
       "      <td>Vienna</td>\n",
       "      <td>Arthur Schnitzler</td>\n",
       "      <td>architect</td>\n",
       "      <td>0.608013</td>\n",
       "    </tr>\n",
       "    <tr>\n",
       "      <th>19</th>\n",
       "      <td>When Julian Resuello , the mayor of San Carlos...</td>\n",
       "      <td>Vienna</td>\n",
       "      <td>Arthur Schnitzler</td>\n",
       "      <td>owned by</td>\n",
       "      <td>0.391916</td>\n",
       "    </tr>\n",
       "    <tr>\n",
       "      <th>20</th>\n",
       "      <td>A3 Concern Raised by Libya Deal Alex Salmond ,...</td>\n",
       "      <td>Arthur Schnitzler</td>\n",
       "      <td>Vienna</td>\n",
       "      <td>work location</td>\n",
       "      <td>0.928458</td>\n",
       "    </tr>\n",
       "    <tr>\n",
       "      <th>21</th>\n",
       "      <td>A3 Concern Raised by Libya Deal Alex Salmond ,...</td>\n",
       "      <td>Arthur Schnitzler</td>\n",
       "      <td>Vienna</td>\n",
       "      <td>work location</td>\n",
       "      <td>0.911204</td>\n",
       "    </tr>\n",
       "    <tr>\n",
       "      <th>22</th>\n",
       "      <td>A3 Concern Raised by Libya Deal Alex Salmond ,...</td>\n",
       "      <td>Vienna</td>\n",
       "      <td>Arthur Schnitzler</td>\n",
       "      <td>architect</td>\n",
       "      <td>0.608013</td>\n",
       "    </tr>\n",
       "    <tr>\n",
       "      <th>23</th>\n",
       "      <td>A3 Concern Raised by Libya Deal Alex Salmond ,...</td>\n",
       "      <td>Vienna</td>\n",
       "      <td>Arthur Schnitzler</td>\n",
       "      <td>owned by</td>\n",
       "      <td>0.391916</td>\n",
       "    </tr>\n",
       "    <tr>\n",
       "      <th>24</th>\n",
       "      <td>A3 Concern Raised by Libya Deal Alex Salmond ,...</td>\n",
       "      <td>Arthur Schnitzler</td>\n",
       "      <td>Vienna</td>\n",
       "      <td>work location</td>\n",
       "      <td>0.928458</td>\n",
       "    </tr>\n",
       "    <tr>\n",
       "      <th>25</th>\n",
       "      <td>A3 Concern Raised by Libya Deal Alex Salmond ,...</td>\n",
       "      <td>Arthur Schnitzler</td>\n",
       "      <td>Vienna</td>\n",
       "      <td>work location</td>\n",
       "      <td>0.911204</td>\n",
       "    </tr>\n",
       "    <tr>\n",
       "      <th>26</th>\n",
       "      <td>A3 Concern Raised by Libya Deal Alex Salmond ,...</td>\n",
       "      <td>Vienna</td>\n",
       "      <td>Arthur Schnitzler</td>\n",
       "      <td>architect</td>\n",
       "      <td>0.608013</td>\n",
       "    </tr>\n",
       "    <tr>\n",
       "      <th>27</th>\n",
       "      <td>A3 Concern Raised by Libya Deal Alex Salmond ,...</td>\n",
       "      <td>Vienna</td>\n",
       "      <td>Arthur Schnitzler</td>\n",
       "      <td>owned by</td>\n",
       "      <td>0.391916</td>\n",
       "    </tr>\n",
       "    <tr>\n",
       "      <th>28</th>\n",
       "      <td>Alex Salmond , the newly elected first ministe...</td>\n",
       "      <td>Arthur Schnitzler</td>\n",
       "      <td>Vienna</td>\n",
       "      <td>work location</td>\n",
       "      <td>0.928458</td>\n",
       "    </tr>\n",
       "    <tr>\n",
       "      <th>29</th>\n",
       "      <td>Alex Salmond , the newly elected first ministe...</td>\n",
       "      <td>Arthur Schnitzler</td>\n",
       "      <td>Vienna</td>\n",
       "      <td>work location</td>\n",
       "      <td>0.911204</td>\n",
       "    </tr>\n",
       "  </tbody>\n",
       "</table>\n",
       "</div>"
      ],
      "text/plain": [
       "                                                 text             source  \\\n",
       "0   The Little Comedy , '' a mannered operetta bas...  Arthur Schnitzler   \n",
       "1   The Little Comedy , '' a mannered operetta bas...  Arthur Schnitzler   \n",
       "2   The Little Comedy , '' a mannered operetta bas...             Vienna   \n",
       "3   The Little Comedy , '' a mannered operetta bas...             Vienna   \n",
       "4   A court in Rome acquitted five people accused ...  Arthur Schnitzler   \n",
       "5   A court in Rome acquitted five people accused ...  Arthur Schnitzler   \n",
       "6   A court in Rome acquitted five people accused ...             Vienna   \n",
       "7   A court in Rome acquitted five people accused ...             Vienna   \n",
       "8   There were also performers who were born in Lo...  Arthur Schnitzler   \n",
       "9   There were also performers who were born in Lo...  Arthur Schnitzler   \n",
       "10  There were also performers who were born in Lo...             Vienna   \n",
       "11  There were also performers who were born in Lo...             Vienna   \n",
       "12  When Julian Resuello , the mayor of San Carlos...  Arthur Schnitzler   \n",
       "13  When Julian Resuello , the mayor of San Carlos...  Arthur Schnitzler   \n",
       "14  When Julian Resuello , the mayor of San Carlos...             Vienna   \n",
       "15  When Julian Resuello , the mayor of San Carlos...             Vienna   \n",
       "16  When Julian Resuello , the mayor of San Carlos...  Arthur Schnitzler   \n",
       "17  When Julian Resuello , the mayor of San Carlos...  Arthur Schnitzler   \n",
       "18  When Julian Resuello , the mayor of San Carlos...             Vienna   \n",
       "19  When Julian Resuello , the mayor of San Carlos...             Vienna   \n",
       "20  A3 Concern Raised by Libya Deal Alex Salmond ,...  Arthur Schnitzler   \n",
       "21  A3 Concern Raised by Libya Deal Alex Salmond ,...  Arthur Schnitzler   \n",
       "22  A3 Concern Raised by Libya Deal Alex Salmond ,...             Vienna   \n",
       "23  A3 Concern Raised by Libya Deal Alex Salmond ,...             Vienna   \n",
       "24  A3 Concern Raised by Libya Deal Alex Salmond ,...  Arthur Schnitzler   \n",
       "25  A3 Concern Raised by Libya Deal Alex Salmond ,...  Arthur Schnitzler   \n",
       "26  A3 Concern Raised by Libya Deal Alex Salmond ,...             Vienna   \n",
       "27  A3 Concern Raised by Libya Deal Alex Salmond ,...             Vienna   \n",
       "28  Alex Salmond , the newly elected first ministe...  Arthur Schnitzler   \n",
       "29  Alex Salmond , the newly elected first ministe...  Arthur Schnitzler   \n",
       "\n",
       "               target           type  threshold  \n",
       "0              Vienna  work location   0.928458  \n",
       "1              Vienna  work location   0.911204  \n",
       "2   Arthur Schnitzler      architect   0.608013  \n",
       "3   Arthur Schnitzler       owned by   0.391916  \n",
       "4              Vienna  work location   0.928458  \n",
       "5              Vienna  work location   0.911204  \n",
       "6   Arthur Schnitzler      architect   0.608013  \n",
       "7   Arthur Schnitzler       owned by   0.391916  \n",
       "8              Vienna  work location   0.928458  \n",
       "9              Vienna  work location   0.911204  \n",
       "10  Arthur Schnitzler      architect   0.608013  \n",
       "11  Arthur Schnitzler       owned by   0.391916  \n",
       "12             Vienna  work location   0.928458  \n",
       "13             Vienna  work location   0.911204  \n",
       "14  Arthur Schnitzler      architect   0.608013  \n",
       "15  Arthur Schnitzler       owned by   0.391916  \n",
       "16             Vienna  work location   0.928458  \n",
       "17             Vienna  work location   0.911204  \n",
       "18  Arthur Schnitzler      architect   0.608013  \n",
       "19  Arthur Schnitzler       owned by   0.391916  \n",
       "20             Vienna  work location   0.928458  \n",
       "21             Vienna  work location   0.911204  \n",
       "22  Arthur Schnitzler      architect   0.608013  \n",
       "23  Arthur Schnitzler       owned by   0.391916  \n",
       "24             Vienna  work location   0.928458  \n",
       "25             Vienna  work location   0.911204  \n",
       "26  Arthur Schnitzler      architect   0.608013  \n",
       "27  Arthur Schnitzler       owned by   0.391916  \n",
       "28             Vienna  work location   0.928458  \n",
       "29             Vienna  work location   0.911204  "
      ]
     },
     "execution_count": 143,
     "metadata": {},
     "output_type": "execute_result"
    }
   ],
   "source": [
    "result.head(30)"
   ]
  },
  {
   "cell_type": "code",
   "execution_count": 145,
   "id": "769ffe35",
   "metadata": {},
   "outputs": [],
   "source": [
    "result2 = result.copy()"
   ]
  },
  {
   "cell_type": "code",
   "execution_count": 149,
   "id": "8e48c97d",
   "metadata": {},
   "outputs": [
    {
     "data": {
      "text/html": [
       "<div>\n",
       "<style scoped>\n",
       "    .dataframe tbody tr th:only-of-type {\n",
       "        vertical-align: middle;\n",
       "    }\n",
       "\n",
       "    .dataframe tbody tr th {\n",
       "        vertical-align: top;\n",
       "    }\n",
       "\n",
       "    .dataframe thead th {\n",
       "        text-align: right;\n",
       "    }\n",
       "</style>\n",
       "<table border=\"1\" class=\"dataframe\">\n",
       "  <thead>\n",
       "    <tr style=\"text-align: right;\">\n",
       "      <th></th>\n",
       "      <th>text</th>\n",
       "      <th>source</th>\n",
       "      <th>target</th>\n",
       "      <th>type</th>\n",
       "    </tr>\n",
       "  </thead>\n",
       "  <tbody>\n",
       "    <tr>\n",
       "      <th>0</th>\n",
       "      <td>The Little Comedy , '' a mannered operetta bas...</td>\n",
       "      <td>Arthur Schnitzler</td>\n",
       "      <td>Vienna</td>\n",
       "      <td>work location</td>\n",
       "    </tr>\n",
       "    <tr>\n",
       "      <th>4</th>\n",
       "      <td>A court in Rome acquitted five people accused ...</td>\n",
       "      <td>Arthur Schnitzler</td>\n",
       "      <td>Vienna</td>\n",
       "      <td>work location</td>\n",
       "    </tr>\n",
       "    <tr>\n",
       "      <th>8</th>\n",
       "      <td>There were also performers who were born in Lo...</td>\n",
       "      <td>Arthur Schnitzler</td>\n",
       "      <td>Vienna</td>\n",
       "      <td>work location</td>\n",
       "    </tr>\n",
       "    <tr>\n",
       "      <th>12</th>\n",
       "      <td>When Julian Resuello , the mayor of San Carlos...</td>\n",
       "      <td>Arthur Schnitzler</td>\n",
       "      <td>Vienna</td>\n",
       "      <td>work location</td>\n",
       "    </tr>\n",
       "    <tr>\n",
       "      <th>16</th>\n",
       "      <td>When Julian Resuello , the mayor of San Carlos...</td>\n",
       "      <td>Arthur Schnitzler</td>\n",
       "      <td>Vienna</td>\n",
       "      <td>work location</td>\n",
       "    </tr>\n",
       "    <tr>\n",
       "      <th>...</th>\n",
       "      <td>...</td>\n",
       "      <td>...</td>\n",
       "      <td>...</td>\n",
       "      <td>...</td>\n",
       "    </tr>\n",
       "    <tr>\n",
       "      <th>44324</th>\n",
       "      <td>Staten Island Steve Whalen , an aspiring filmm...</td>\n",
       "      <td>Arthur Schnitzler</td>\n",
       "      <td>Vienna</td>\n",
       "      <td>work location</td>\n",
       "    </tr>\n",
       "    <tr>\n",
       "      <th>44328</th>\n",
       "      <td>Lukacs , a distinguished historian of 20th-cen...</td>\n",
       "      <td>Arthur Schnitzler</td>\n",
       "      <td>Vienna</td>\n",
       "      <td>work location</td>\n",
       "    </tr>\n",
       "    <tr>\n",
       "      <th>44332</th>\n",
       "      <td>Since accepting an invitation in 1996 from the...</td>\n",
       "      <td>Arthur Schnitzler</td>\n",
       "      <td>Vienna</td>\n",
       "      <td>work location</td>\n",
       "    </tr>\n",
       "    <tr>\n",
       "      <th>44336</th>\n",
       "      <td>LOYOLA , MD. 62 , ST. PETER 'S 55 -- Michael T...</td>\n",
       "      <td>Arthur Schnitzler</td>\n",
       "      <td>Vienna</td>\n",
       "      <td>work location</td>\n",
       "    </tr>\n",
       "    <tr>\n",
       "      <th>44340</th>\n",
       "      <td>It became a Shiite pilgrimage center after the...</td>\n",
       "      <td>Arthur Schnitzler</td>\n",
       "      <td>Vienna</td>\n",
       "      <td>work location</td>\n",
       "    </tr>\n",
       "  </tbody>\n",
       "</table>\n",
       "<p>11086 rows × 4 columns</p>\n",
       "</div>"
      ],
      "text/plain": [
       "                                                    text             source  \\\n",
       "0      The Little Comedy , '' a mannered operetta bas...  Arthur Schnitzler   \n",
       "4      A court in Rome acquitted five people accused ...  Arthur Schnitzler   \n",
       "8      There were also performers who were born in Lo...  Arthur Schnitzler   \n",
       "12     When Julian Resuello , the mayor of San Carlos...  Arthur Schnitzler   \n",
       "16     When Julian Resuello , the mayor of San Carlos...  Arthur Schnitzler   \n",
       "...                                                  ...                ...   \n",
       "44324  Staten Island Steve Whalen , an aspiring filmm...  Arthur Schnitzler   \n",
       "44328  Lukacs , a distinguished historian of 20th-cen...  Arthur Schnitzler   \n",
       "44332  Since accepting an invitation in 1996 from the...  Arthur Schnitzler   \n",
       "44336  LOYOLA , MD. 62 , ST. PETER 'S 55 -- Michael T...  Arthur Schnitzler   \n",
       "44340  It became a Shiite pilgrimage center after the...  Arthur Schnitzler   \n",
       "\n",
       "       target           type  \n",
       "0      Vienna  work location  \n",
       "4      Vienna  work location  \n",
       "8      Vienna  work location  \n",
       "12     Vienna  work location  \n",
       "16     Vienna  work location  \n",
       "...       ...            ...  \n",
       "44324  Vienna  work location  \n",
       "44328  Vienna  work location  \n",
       "44332  Vienna  work location  \n",
       "44336  Vienna  work location  \n",
       "44340  Vienna  work location  \n",
       "\n",
       "[11086 rows x 4 columns]"
      ]
     },
     "execution_count": 149,
     "metadata": {},
     "output_type": "execute_result"
    }
   ],
   "source": [
    "result2[['text','source','target','type']][result2.threshold == result2['threshold'].max()]\n",
    "\n"
   ]
  },
  {
   "cell_type": "code",
   "execution_count": null,
   "id": "e40b5d45",
   "metadata": {},
   "outputs": [],
   "source": []
  },
  {
   "cell_type": "code",
   "execution_count": 152,
   "id": "58483489",
   "metadata": {},
   "outputs": [
    {
     "ename": "KeyboardInterrupt",
     "evalue": "",
     "output_type": "error",
     "traceback": [
      "\u001b[0;31m---------------------------------------------------------------------------\u001b[0m",
      "\u001b[0;31mKeyboardInterrupt\u001b[0m                         Traceback (most recent call last)",
      "\u001b[0;32m<ipython-input-152-f19f65fee55d>\u001b[0m in \u001b[0;36m<module>\u001b[0;34m\u001b[0m\n\u001b[0;32m----> 1\u001b[0;31m \u001b[0mdata\u001b[0m\u001b[0;34m[\u001b[0m\u001b[0;34m'text'\u001b[0m\u001b[0;34m]\u001b[0m\u001b[0;34m.\u001b[0m\u001b[0mapply\u001b[0m\u001b[0;34m(\u001b[0m\u001b[0;32mlambda\u001b[0m \u001b[0mx\u001b[0m\u001b[0;34m:\u001b[0m \u001b[0mprepare_nlp\u001b[0m\u001b[0;34m(\u001b[0m\u001b[0mx\u001b[0m\u001b[0;34m)\u001b[0m\u001b[0;34m)\u001b[0m\u001b[0;34m\u001b[0m\u001b[0;34m\u001b[0m\u001b[0m\n\u001b[0m",
      "\u001b[0;32m~/anaconda3/envs/ai-hack/lib/python3.7/site-packages/pandas/core/series.py\u001b[0m in \u001b[0;36mapply\u001b[0;34m(self, func, convert_dtype, args, **kwds)\u001b[0m\n\u001b[1;32m   4136\u001b[0m             \u001b[0;32melse\u001b[0m\u001b[0;34m:\u001b[0m\u001b[0;34m\u001b[0m\u001b[0;34m\u001b[0m\u001b[0m\n\u001b[1;32m   4137\u001b[0m                 \u001b[0mvalues\u001b[0m \u001b[0;34m=\u001b[0m \u001b[0mself\u001b[0m\u001b[0;34m.\u001b[0m\u001b[0mastype\u001b[0m\u001b[0;34m(\u001b[0m\u001b[0mobject\u001b[0m\u001b[0;34m)\u001b[0m\u001b[0;34m.\u001b[0m\u001b[0m_values\u001b[0m\u001b[0;34m\u001b[0m\u001b[0;34m\u001b[0m\u001b[0m\n\u001b[0;32m-> 4138\u001b[0;31m                 \u001b[0mmapped\u001b[0m \u001b[0;34m=\u001b[0m \u001b[0mlib\u001b[0m\u001b[0;34m.\u001b[0m\u001b[0mmap_infer\u001b[0m\u001b[0;34m(\u001b[0m\u001b[0mvalues\u001b[0m\u001b[0;34m,\u001b[0m \u001b[0mf\u001b[0m\u001b[0;34m,\u001b[0m \u001b[0mconvert\u001b[0m\u001b[0;34m=\u001b[0m\u001b[0mconvert_dtype\u001b[0m\u001b[0;34m)\u001b[0m\u001b[0;34m\u001b[0m\u001b[0;34m\u001b[0m\u001b[0m\n\u001b[0m\u001b[1;32m   4139\u001b[0m \u001b[0;34m\u001b[0m\u001b[0m\n\u001b[1;32m   4140\u001b[0m         \u001b[0;32mif\u001b[0m \u001b[0mlen\u001b[0m\u001b[0;34m(\u001b[0m\u001b[0mmapped\u001b[0m\u001b[0;34m)\u001b[0m \u001b[0;32mand\u001b[0m \u001b[0misinstance\u001b[0m\u001b[0;34m(\u001b[0m\u001b[0mmapped\u001b[0m\u001b[0;34m[\u001b[0m\u001b[0;36m0\u001b[0m\u001b[0;34m]\u001b[0m\u001b[0;34m,\u001b[0m \u001b[0mSeries\u001b[0m\u001b[0;34m)\u001b[0m\u001b[0;34m:\u001b[0m\u001b[0;34m\u001b[0m\u001b[0;34m\u001b[0m\u001b[0m\n",
      "\u001b[0;32mpandas/_libs/lib.pyx\u001b[0m in \u001b[0;36mpandas._libs.lib.map_infer\u001b[0;34m()\u001b[0m\n",
      "\u001b[0;32m<ipython-input-152-f19f65fee55d>\u001b[0m in \u001b[0;36m<lambda>\u001b[0;34m(x)\u001b[0m\n\u001b[0;32m----> 1\u001b[0;31m \u001b[0mdata\u001b[0m\u001b[0;34m[\u001b[0m\u001b[0;34m'text'\u001b[0m\u001b[0;34m]\u001b[0m\u001b[0;34m.\u001b[0m\u001b[0mapply\u001b[0m\u001b[0;34m(\u001b[0m\u001b[0;32mlambda\u001b[0m \u001b[0mx\u001b[0m\u001b[0;34m:\u001b[0m \u001b[0mprepare_nlp\u001b[0m\u001b[0;34m(\u001b[0m\u001b[0mx\u001b[0m\u001b[0;34m)\u001b[0m\u001b[0;34m)\u001b[0m\u001b[0;34m\u001b[0m\u001b[0;34m\u001b[0m\u001b[0m\n\u001b[0m",
      "\u001b[0;32m<ipython-input-97-f1a82324137b>\u001b[0m in \u001b[0;36mprepare_nlp\u001b[0;34m(text)\u001b[0m\n\u001b[1;32m      3\u001b[0m     \u001b[0mresolved_text\u001b[0m \u001b[0;34m=\u001b[0m \u001b[0mdoc\u001b[0m\u001b[0;34m.\u001b[0m\u001b[0m_\u001b[0m\u001b[0;34m.\u001b[0m\u001b[0mcoref_resolved\u001b[0m\u001b[0;34m\u001b[0m\u001b[0;34m\u001b[0m\u001b[0m\n\u001b[1;32m      4\u001b[0m     \u001b[0;31m#data_resolved_text.append({'text':t, 'resolved_text':resolved_text})\u001b[0m\u001b[0;34m\u001b[0m\u001b[0;34m\u001b[0m\u001b[0;34m\u001b[0m\u001b[0m\n\u001b[0;32m----> 5\u001b[0;31m     \u001b[0mentities\u001b[0m \u001b[0;34m=\u001b[0m \u001b[0mwikifier\u001b[0m\u001b[0;34m(\u001b[0m\u001b[0mresolved_text\u001b[0m\u001b[0;34m,\u001b[0m \u001b[0mthreshold\u001b[0m\u001b[0;34m=\u001b[0m\u001b[0mentities_threshold\u001b[0m\u001b[0;34m)\u001b[0m\u001b[0;34m\u001b[0m\u001b[0;34m\u001b[0m\u001b[0m\n\u001b[0m\u001b[1;32m      6\u001b[0m     \u001b[0;32mreturn\u001b[0m \u001b[0;34m(\u001b[0m\u001b[0mresolved_text\u001b[0m\u001b[0;34m,\u001b[0m \u001b[0mentities\u001b[0m\u001b[0;34m)\u001b[0m\u001b[0;34m\u001b[0m\u001b[0;34m\u001b[0m\u001b[0m\n",
      "\u001b[0;32m<ipython-input-42-e995bcb855d2>\u001b[0m in \u001b[0;36mwikifier\u001b[0;34m(text, lang, threshold)\u001b[0m\n\u001b[1;32m     16\u001b[0m     \u001b[0;31m# Call the Wikifier and read the response.\u001b[0m\u001b[0;34m\u001b[0m\u001b[0;34m\u001b[0m\u001b[0;34m\u001b[0m\u001b[0m\n\u001b[1;32m     17\u001b[0m     \u001b[0mreq\u001b[0m \u001b[0;34m=\u001b[0m \u001b[0murllib\u001b[0m\u001b[0;34m.\u001b[0m\u001b[0mrequest\u001b[0m\u001b[0;34m.\u001b[0m\u001b[0mRequest\u001b[0m\u001b[0;34m(\u001b[0m\u001b[0murl\u001b[0m\u001b[0;34m,\u001b[0m \u001b[0mdata\u001b[0m\u001b[0;34m=\u001b[0m\u001b[0mdata\u001b[0m\u001b[0;34m.\u001b[0m\u001b[0mencode\u001b[0m\u001b[0;34m(\u001b[0m\u001b[0;34m\"utf8\"\u001b[0m\u001b[0;34m)\u001b[0m\u001b[0;34m,\u001b[0m \u001b[0mmethod\u001b[0m\u001b[0;34m=\u001b[0m\u001b[0;34m\"POST\"\u001b[0m\u001b[0;34m)\u001b[0m\u001b[0;34m\u001b[0m\u001b[0;34m\u001b[0m\u001b[0m\n\u001b[0;32m---> 18\u001b[0;31m     \u001b[0;32mwith\u001b[0m \u001b[0murllib\u001b[0m\u001b[0;34m.\u001b[0m\u001b[0mrequest\u001b[0m\u001b[0;34m.\u001b[0m\u001b[0murlopen\u001b[0m\u001b[0;34m(\u001b[0m\u001b[0mreq\u001b[0m\u001b[0;34m,\u001b[0m \u001b[0mtimeout\u001b[0m\u001b[0;34m=\u001b[0m\u001b[0;36m60\u001b[0m\u001b[0;34m)\u001b[0m \u001b[0;32mas\u001b[0m \u001b[0mf\u001b[0m\u001b[0;34m:\u001b[0m\u001b[0;34m\u001b[0m\u001b[0;34m\u001b[0m\u001b[0m\n\u001b[0m\u001b[1;32m     19\u001b[0m         \u001b[0mresponse\u001b[0m \u001b[0;34m=\u001b[0m \u001b[0mf\u001b[0m\u001b[0;34m.\u001b[0m\u001b[0mread\u001b[0m\u001b[0;34m(\u001b[0m\u001b[0;34m)\u001b[0m\u001b[0;34m\u001b[0m\u001b[0;34m\u001b[0m\u001b[0m\n\u001b[1;32m     20\u001b[0m         \u001b[0mresponse\u001b[0m \u001b[0;34m=\u001b[0m \u001b[0mjson\u001b[0m\u001b[0;34m.\u001b[0m\u001b[0mloads\u001b[0m\u001b[0;34m(\u001b[0m\u001b[0mresponse\u001b[0m\u001b[0;34m.\u001b[0m\u001b[0mdecode\u001b[0m\u001b[0;34m(\u001b[0m\u001b[0;34m\"utf8\"\u001b[0m\u001b[0;34m)\u001b[0m\u001b[0;34m)\u001b[0m\u001b[0;34m\u001b[0m\u001b[0;34m\u001b[0m\u001b[0m\n",
      "\u001b[0;32m~/anaconda3/envs/ai-hack/lib/python3.7/urllib/request.py\u001b[0m in \u001b[0;36murlopen\u001b[0;34m(url, data, timeout, cafile, capath, cadefault, context)\u001b[0m\n\u001b[1;32m    220\u001b[0m     \u001b[0;32melse\u001b[0m\u001b[0;34m:\u001b[0m\u001b[0;34m\u001b[0m\u001b[0;34m\u001b[0m\u001b[0m\n\u001b[1;32m    221\u001b[0m         \u001b[0mopener\u001b[0m \u001b[0;34m=\u001b[0m \u001b[0m_opener\u001b[0m\u001b[0;34m\u001b[0m\u001b[0;34m\u001b[0m\u001b[0m\n\u001b[0;32m--> 222\u001b[0;31m     \u001b[0;32mreturn\u001b[0m \u001b[0mopener\u001b[0m\u001b[0;34m.\u001b[0m\u001b[0mopen\u001b[0m\u001b[0;34m(\u001b[0m\u001b[0murl\u001b[0m\u001b[0;34m,\u001b[0m \u001b[0mdata\u001b[0m\u001b[0;34m,\u001b[0m \u001b[0mtimeout\u001b[0m\u001b[0;34m)\u001b[0m\u001b[0;34m\u001b[0m\u001b[0;34m\u001b[0m\u001b[0m\n\u001b[0m\u001b[1;32m    223\u001b[0m \u001b[0;34m\u001b[0m\u001b[0m\n\u001b[1;32m    224\u001b[0m \u001b[0;32mdef\u001b[0m \u001b[0minstall_opener\u001b[0m\u001b[0;34m(\u001b[0m\u001b[0mopener\u001b[0m\u001b[0;34m)\u001b[0m\u001b[0;34m:\u001b[0m\u001b[0;34m\u001b[0m\u001b[0;34m\u001b[0m\u001b[0m\n",
      "\u001b[0;32m~/anaconda3/envs/ai-hack/lib/python3.7/urllib/request.py\u001b[0m in \u001b[0;36mopen\u001b[0;34m(self, fullurl, data, timeout)\u001b[0m\n\u001b[1;32m    523\u001b[0m             \u001b[0mreq\u001b[0m \u001b[0;34m=\u001b[0m \u001b[0mmeth\u001b[0m\u001b[0;34m(\u001b[0m\u001b[0mreq\u001b[0m\u001b[0;34m)\u001b[0m\u001b[0;34m\u001b[0m\u001b[0;34m\u001b[0m\u001b[0m\n\u001b[1;32m    524\u001b[0m \u001b[0;34m\u001b[0m\u001b[0m\n\u001b[0;32m--> 525\u001b[0;31m         \u001b[0mresponse\u001b[0m \u001b[0;34m=\u001b[0m \u001b[0mself\u001b[0m\u001b[0;34m.\u001b[0m\u001b[0m_open\u001b[0m\u001b[0;34m(\u001b[0m\u001b[0mreq\u001b[0m\u001b[0;34m,\u001b[0m \u001b[0mdata\u001b[0m\u001b[0;34m)\u001b[0m\u001b[0;34m\u001b[0m\u001b[0;34m\u001b[0m\u001b[0m\n\u001b[0m\u001b[1;32m    526\u001b[0m \u001b[0;34m\u001b[0m\u001b[0m\n\u001b[1;32m    527\u001b[0m         \u001b[0;31m# post-process response\u001b[0m\u001b[0;34m\u001b[0m\u001b[0;34m\u001b[0m\u001b[0;34m\u001b[0m\u001b[0m\n",
      "\u001b[0;32m~/anaconda3/envs/ai-hack/lib/python3.7/urllib/request.py\u001b[0m in \u001b[0;36m_open\u001b[0;34m(self, req, data)\u001b[0m\n\u001b[1;32m    541\u001b[0m         \u001b[0mprotocol\u001b[0m \u001b[0;34m=\u001b[0m \u001b[0mreq\u001b[0m\u001b[0;34m.\u001b[0m\u001b[0mtype\u001b[0m\u001b[0;34m\u001b[0m\u001b[0;34m\u001b[0m\u001b[0m\n\u001b[1;32m    542\u001b[0m         result = self._call_chain(self.handle_open, protocol, protocol +\n\u001b[0;32m--> 543\u001b[0;31m                                   '_open', req)\n\u001b[0m\u001b[1;32m    544\u001b[0m         \u001b[0;32mif\u001b[0m \u001b[0mresult\u001b[0m\u001b[0;34m:\u001b[0m\u001b[0;34m\u001b[0m\u001b[0;34m\u001b[0m\u001b[0m\n\u001b[1;32m    545\u001b[0m             \u001b[0;32mreturn\u001b[0m \u001b[0mresult\u001b[0m\u001b[0;34m\u001b[0m\u001b[0;34m\u001b[0m\u001b[0m\n",
      "\u001b[0;32m~/anaconda3/envs/ai-hack/lib/python3.7/urllib/request.py\u001b[0m in \u001b[0;36m_call_chain\u001b[0;34m(self, chain, kind, meth_name, *args)\u001b[0m\n\u001b[1;32m    501\u001b[0m         \u001b[0;32mfor\u001b[0m \u001b[0mhandler\u001b[0m \u001b[0;32min\u001b[0m \u001b[0mhandlers\u001b[0m\u001b[0;34m:\u001b[0m\u001b[0;34m\u001b[0m\u001b[0;34m\u001b[0m\u001b[0m\n\u001b[1;32m    502\u001b[0m             \u001b[0mfunc\u001b[0m \u001b[0;34m=\u001b[0m \u001b[0mgetattr\u001b[0m\u001b[0;34m(\u001b[0m\u001b[0mhandler\u001b[0m\u001b[0;34m,\u001b[0m \u001b[0mmeth_name\u001b[0m\u001b[0;34m)\u001b[0m\u001b[0;34m\u001b[0m\u001b[0;34m\u001b[0m\u001b[0m\n\u001b[0;32m--> 503\u001b[0;31m             \u001b[0mresult\u001b[0m \u001b[0;34m=\u001b[0m \u001b[0mfunc\u001b[0m\u001b[0;34m(\u001b[0m\u001b[0;34m*\u001b[0m\u001b[0margs\u001b[0m\u001b[0;34m)\u001b[0m\u001b[0;34m\u001b[0m\u001b[0;34m\u001b[0m\u001b[0m\n\u001b[0m\u001b[1;32m    504\u001b[0m             \u001b[0;32mif\u001b[0m \u001b[0mresult\u001b[0m \u001b[0;32mis\u001b[0m \u001b[0;32mnot\u001b[0m \u001b[0;32mNone\u001b[0m\u001b[0;34m:\u001b[0m\u001b[0;34m\u001b[0m\u001b[0;34m\u001b[0m\u001b[0m\n\u001b[1;32m    505\u001b[0m                 \u001b[0;32mreturn\u001b[0m \u001b[0mresult\u001b[0m\u001b[0;34m\u001b[0m\u001b[0;34m\u001b[0m\u001b[0m\n",
      "\u001b[0;32m~/anaconda3/envs/ai-hack/lib/python3.7/urllib/request.py\u001b[0m in \u001b[0;36mhttp_open\u001b[0;34m(self, req)\u001b[0m\n\u001b[1;32m   1376\u001b[0m \u001b[0;34m\u001b[0m\u001b[0m\n\u001b[1;32m   1377\u001b[0m     \u001b[0;32mdef\u001b[0m \u001b[0mhttp_open\u001b[0m\u001b[0;34m(\u001b[0m\u001b[0mself\u001b[0m\u001b[0;34m,\u001b[0m \u001b[0mreq\u001b[0m\u001b[0;34m)\u001b[0m\u001b[0;34m:\u001b[0m\u001b[0;34m\u001b[0m\u001b[0;34m\u001b[0m\u001b[0m\n\u001b[0;32m-> 1378\u001b[0;31m         \u001b[0;32mreturn\u001b[0m \u001b[0mself\u001b[0m\u001b[0;34m.\u001b[0m\u001b[0mdo_open\u001b[0m\u001b[0;34m(\u001b[0m\u001b[0mhttp\u001b[0m\u001b[0;34m.\u001b[0m\u001b[0mclient\u001b[0m\u001b[0;34m.\u001b[0m\u001b[0mHTTPConnection\u001b[0m\u001b[0;34m,\u001b[0m \u001b[0mreq\u001b[0m\u001b[0;34m)\u001b[0m\u001b[0;34m\u001b[0m\u001b[0;34m\u001b[0m\u001b[0m\n\u001b[0m\u001b[1;32m   1379\u001b[0m \u001b[0;34m\u001b[0m\u001b[0m\n\u001b[1;32m   1380\u001b[0m     \u001b[0mhttp_request\u001b[0m \u001b[0;34m=\u001b[0m \u001b[0mAbstractHTTPHandler\u001b[0m\u001b[0;34m.\u001b[0m\u001b[0mdo_request_\u001b[0m\u001b[0;34m\u001b[0m\u001b[0;34m\u001b[0m\u001b[0m\n",
      "\u001b[0;32m~/anaconda3/envs/ai-hack/lib/python3.7/urllib/request.py\u001b[0m in \u001b[0;36mdo_open\u001b[0;34m(self, http_class, req, **http_conn_args)\u001b[0m\n\u001b[1;32m   1351\u001b[0m             \u001b[0;32mexcept\u001b[0m \u001b[0mOSError\u001b[0m \u001b[0;32mas\u001b[0m \u001b[0merr\u001b[0m\u001b[0;34m:\u001b[0m \u001b[0;31m# timeout error\u001b[0m\u001b[0;34m\u001b[0m\u001b[0;34m\u001b[0m\u001b[0m\n\u001b[1;32m   1352\u001b[0m                 \u001b[0;32mraise\u001b[0m \u001b[0mURLError\u001b[0m\u001b[0;34m(\u001b[0m\u001b[0merr\u001b[0m\u001b[0;34m)\u001b[0m\u001b[0;34m\u001b[0m\u001b[0;34m\u001b[0m\u001b[0m\n\u001b[0;32m-> 1353\u001b[0;31m             \u001b[0mr\u001b[0m \u001b[0;34m=\u001b[0m \u001b[0mh\u001b[0m\u001b[0;34m.\u001b[0m\u001b[0mgetresponse\u001b[0m\u001b[0;34m(\u001b[0m\u001b[0;34m)\u001b[0m\u001b[0;34m\u001b[0m\u001b[0;34m\u001b[0m\u001b[0m\n\u001b[0m\u001b[1;32m   1354\u001b[0m         \u001b[0;32mexcept\u001b[0m\u001b[0;34m:\u001b[0m\u001b[0;34m\u001b[0m\u001b[0;34m\u001b[0m\u001b[0m\n\u001b[1;32m   1355\u001b[0m             \u001b[0mh\u001b[0m\u001b[0;34m.\u001b[0m\u001b[0mclose\u001b[0m\u001b[0;34m(\u001b[0m\u001b[0;34m)\u001b[0m\u001b[0;34m\u001b[0m\u001b[0;34m\u001b[0m\u001b[0m\n",
      "\u001b[0;32m~/anaconda3/envs/ai-hack/lib/python3.7/http/client.py\u001b[0m in \u001b[0;36mgetresponse\u001b[0;34m(self)\u001b[0m\n\u001b[1;32m   1367\u001b[0m         \u001b[0;32mtry\u001b[0m\u001b[0;34m:\u001b[0m\u001b[0;34m\u001b[0m\u001b[0;34m\u001b[0m\u001b[0m\n\u001b[1;32m   1368\u001b[0m             \u001b[0;32mtry\u001b[0m\u001b[0;34m:\u001b[0m\u001b[0;34m\u001b[0m\u001b[0;34m\u001b[0m\u001b[0m\n\u001b[0;32m-> 1369\u001b[0;31m                 \u001b[0mresponse\u001b[0m\u001b[0;34m.\u001b[0m\u001b[0mbegin\u001b[0m\u001b[0;34m(\u001b[0m\u001b[0;34m)\u001b[0m\u001b[0;34m\u001b[0m\u001b[0;34m\u001b[0m\u001b[0m\n\u001b[0m\u001b[1;32m   1370\u001b[0m             \u001b[0;32mexcept\u001b[0m \u001b[0mConnectionError\u001b[0m\u001b[0;34m:\u001b[0m\u001b[0;34m\u001b[0m\u001b[0;34m\u001b[0m\u001b[0m\n\u001b[1;32m   1371\u001b[0m                 \u001b[0mself\u001b[0m\u001b[0;34m.\u001b[0m\u001b[0mclose\u001b[0m\u001b[0;34m(\u001b[0m\u001b[0;34m)\u001b[0m\u001b[0;34m\u001b[0m\u001b[0;34m\u001b[0m\u001b[0m\n",
      "\u001b[0;32m~/anaconda3/envs/ai-hack/lib/python3.7/http/client.py\u001b[0m in \u001b[0;36mbegin\u001b[0;34m(self)\u001b[0m\n\u001b[1;32m    308\u001b[0m         \u001b[0;31m# read until we get a non-100 response\u001b[0m\u001b[0;34m\u001b[0m\u001b[0;34m\u001b[0m\u001b[0;34m\u001b[0m\u001b[0m\n\u001b[1;32m    309\u001b[0m         \u001b[0;32mwhile\u001b[0m \u001b[0;32mTrue\u001b[0m\u001b[0;34m:\u001b[0m\u001b[0;34m\u001b[0m\u001b[0;34m\u001b[0m\u001b[0m\n\u001b[0;32m--> 310\u001b[0;31m             \u001b[0mversion\u001b[0m\u001b[0;34m,\u001b[0m \u001b[0mstatus\u001b[0m\u001b[0;34m,\u001b[0m \u001b[0mreason\u001b[0m \u001b[0;34m=\u001b[0m \u001b[0mself\u001b[0m\u001b[0;34m.\u001b[0m\u001b[0m_read_status\u001b[0m\u001b[0;34m(\u001b[0m\u001b[0;34m)\u001b[0m\u001b[0;34m\u001b[0m\u001b[0;34m\u001b[0m\u001b[0m\n\u001b[0m\u001b[1;32m    311\u001b[0m             \u001b[0;32mif\u001b[0m \u001b[0mstatus\u001b[0m \u001b[0;34m!=\u001b[0m \u001b[0mCONTINUE\u001b[0m\u001b[0;34m:\u001b[0m\u001b[0;34m\u001b[0m\u001b[0;34m\u001b[0m\u001b[0m\n\u001b[1;32m    312\u001b[0m                 \u001b[0;32mbreak\u001b[0m\u001b[0;34m\u001b[0m\u001b[0;34m\u001b[0m\u001b[0m\n",
      "\u001b[0;32m~/anaconda3/envs/ai-hack/lib/python3.7/http/client.py\u001b[0m in \u001b[0;36m_read_status\u001b[0;34m(self)\u001b[0m\n\u001b[1;32m    269\u001b[0m \u001b[0;34m\u001b[0m\u001b[0m\n\u001b[1;32m    270\u001b[0m     \u001b[0;32mdef\u001b[0m \u001b[0m_read_status\u001b[0m\u001b[0;34m(\u001b[0m\u001b[0mself\u001b[0m\u001b[0;34m)\u001b[0m\u001b[0;34m:\u001b[0m\u001b[0;34m\u001b[0m\u001b[0;34m\u001b[0m\u001b[0m\n\u001b[0;32m--> 271\u001b[0;31m         \u001b[0mline\u001b[0m \u001b[0;34m=\u001b[0m \u001b[0mstr\u001b[0m\u001b[0;34m(\u001b[0m\u001b[0mself\u001b[0m\u001b[0;34m.\u001b[0m\u001b[0mfp\u001b[0m\u001b[0;34m.\u001b[0m\u001b[0mreadline\u001b[0m\u001b[0;34m(\u001b[0m\u001b[0m_MAXLINE\u001b[0m \u001b[0;34m+\u001b[0m \u001b[0;36m1\u001b[0m\u001b[0;34m)\u001b[0m\u001b[0;34m,\u001b[0m \u001b[0;34m\"iso-8859-1\"\u001b[0m\u001b[0;34m)\u001b[0m\u001b[0;34m\u001b[0m\u001b[0;34m\u001b[0m\u001b[0m\n\u001b[0m\u001b[1;32m    272\u001b[0m         \u001b[0;32mif\u001b[0m \u001b[0mlen\u001b[0m\u001b[0;34m(\u001b[0m\u001b[0mline\u001b[0m\u001b[0;34m)\u001b[0m \u001b[0;34m>\u001b[0m \u001b[0m_MAXLINE\u001b[0m\u001b[0;34m:\u001b[0m\u001b[0;34m\u001b[0m\u001b[0;34m\u001b[0m\u001b[0m\n\u001b[1;32m    273\u001b[0m             \u001b[0;32mraise\u001b[0m \u001b[0mLineTooLong\u001b[0m\u001b[0;34m(\u001b[0m\u001b[0;34m\"status line\"\u001b[0m\u001b[0;34m)\u001b[0m\u001b[0;34m\u001b[0m\u001b[0;34m\u001b[0m\u001b[0m\n",
      "\u001b[0;32m~/anaconda3/envs/ai-hack/lib/python3.7/socket.py\u001b[0m in \u001b[0;36mreadinto\u001b[0;34m(self, b)\u001b[0m\n\u001b[1;32m    587\u001b[0m         \u001b[0;32mwhile\u001b[0m \u001b[0;32mTrue\u001b[0m\u001b[0;34m:\u001b[0m\u001b[0;34m\u001b[0m\u001b[0;34m\u001b[0m\u001b[0m\n\u001b[1;32m    588\u001b[0m             \u001b[0;32mtry\u001b[0m\u001b[0;34m:\u001b[0m\u001b[0;34m\u001b[0m\u001b[0;34m\u001b[0m\u001b[0m\n\u001b[0;32m--> 589\u001b[0;31m                 \u001b[0;32mreturn\u001b[0m \u001b[0mself\u001b[0m\u001b[0;34m.\u001b[0m\u001b[0m_sock\u001b[0m\u001b[0;34m.\u001b[0m\u001b[0mrecv_into\u001b[0m\u001b[0;34m(\u001b[0m\u001b[0mb\u001b[0m\u001b[0;34m)\u001b[0m\u001b[0;34m\u001b[0m\u001b[0;34m\u001b[0m\u001b[0m\n\u001b[0m\u001b[1;32m    590\u001b[0m             \u001b[0;32mexcept\u001b[0m \u001b[0mtimeout\u001b[0m\u001b[0;34m:\u001b[0m\u001b[0;34m\u001b[0m\u001b[0;34m\u001b[0m\u001b[0m\n\u001b[1;32m    591\u001b[0m                 \u001b[0mself\u001b[0m\u001b[0;34m.\u001b[0m\u001b[0m_timeout_occurred\u001b[0m \u001b[0;34m=\u001b[0m \u001b[0;32mTrue\u001b[0m\u001b[0;34m\u001b[0m\u001b[0;34m\u001b[0m\u001b[0m\n",
      "\u001b[0;31mKeyboardInterrupt\u001b[0m: "
     ]
    }
   ],
   "source": [
    "data['text'].apply(lambda x: prepare_nlp(x))"
   ]
  },
  {
   "cell_type": "code",
   "execution_count": null,
   "id": "ef0a5982",
   "metadata": {},
   "outputs": [],
   "source": []
  }
 ],
 "metadata": {
  "kernelspec": {
   "display_name": "Python 3",
   "language": "python",
   "name": "python3"
  },
  "language_info": {
   "codemirror_mode": {
    "name": "ipython",
    "version": 3
   },
   "file_extension": ".py",
   "mimetype": "text/x-python",
   "name": "python",
   "nbconvert_exporter": "python",
   "pygments_lexer": "ipython3",
   "version": "3.7.10"
  }
 },
 "nbformat": 4,
 "nbformat_minor": 5
}
